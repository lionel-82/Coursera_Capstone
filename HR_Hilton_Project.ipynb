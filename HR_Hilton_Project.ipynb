{
    "cells": [
        {
            "cell_type": "markdown",
            "metadata": {
                "collapsed": true
            },
            "source": "# Career Management by Hilton using locations cluster\n\n### Introduction:\n\nGlobal companies want to keep consistence in the company culture despite their many locations. In order to achieve this goal, the employees relocate many times during their career. \nHuman Resources manager have the task to ensure the mobility. They want to make sure that the employees feel good in the new city. \nI take for the case the example of the company Hilton, facing with this issue. \nThe project is to cluster the different cities where Hilton is implanted, in order to assist the career management. Employees will enjoy the new city, if it has the same structure as the city they liked. It means that Employees will enjoy the new city, if it belongs to the same cluster as the city they liked.\nDue to the Foursquare limitation, we will focus on Western Europe.\n\n### Data:\nWikipedia has a list of the Hilton properties worldwide:\nhttps://en.wikipedia.org/wiki/List_of_properties_of_Hilton_Worldwide \\\nThe first step will be to extract this chart and make a dataframe. \\\nThen with Geopy we can get the latitude and longitude of each city, and add it to the dataframe.\nThen I will use Foursquare to get the venues in the cities. \nThe cities will finally be clustered using the frequency of occurrence of each venue\u2019s category.\n"
        },
        {
            "cell_type": "code",
            "execution_count": null,
            "metadata": {},
            "outputs": [],
            "source": ""
        }
    ],
    "metadata": {
        "kernelspec": {
            "display_name": "Python 3.6",
            "language": "python",
            "name": "python3"
        },
        "language_info": {
            "codemirror_mode": {
                "name": "ipython",
                "version": 3
            },
            "file_extension": ".py",
            "mimetype": "text/x-python",
            "name": "python",
            "nbconvert_exporter": "python",
            "pygments_lexer": "ipython3",
            "version": "3.6.9"
        }
    },
    "nbformat": 4,
    "nbformat_minor": 1
}